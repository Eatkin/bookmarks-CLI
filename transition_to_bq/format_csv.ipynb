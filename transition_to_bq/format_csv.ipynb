{
 "cells": [
  {
   "cell_type": "code",
   "execution_count": 1,
   "metadata": {},
   "outputs": [],
   "source": [
    "# Notebook for taking the csv and converting it to the correct format for BQ data schema\n",
    "# Remember date_added is now a timestamp!"
   ]
  },
  {
   "cell_type": "code",
   "execution_count": 2,
   "metadata": {},
   "outputs": [],
   "source": [
    "import pandas as pd\n",
    "import os"
   ]
  },
  {
   "cell_type": "code",
   "execution_count": 18,
   "metadata": {},
   "outputs": [
    {
     "data": {
      "text/plain": [
       "'/home/ed/code/Eatkin/bookmarks_interface/transition_to_bq'"
      ]
     },
     "execution_count": 18,
     "metadata": {},
     "output_type": "execute_result"
    }
   ],
   "source": [
    "os.path.dirname(os.path.abspath(\"__file__\"))"
   ]
  },
  {
   "cell_type": "code",
   "execution_count": 21,
   "metadata": {},
   "outputs": [
    {
     "data": {
      "text/plain": [
       "'/home/ed/code/Eatkin/bookmarks_interface/bookmarks-414106-82ffd7e77bda.json'"
      ]
     },
     "execution_count": 21,
     "metadata": {},
     "output_type": "execute_result"
    }
   ],
   "source": [
    "os.environ[\"GOOGLE_APPLICATION_CREDENTIALS\"] = os.path.join(os.path.dirname(os.path.dirname(os.path.abspath(\"__file__\"))), \"bookmarks-414106-82ffd7e77bda.json\")\n",
    "os.environ.get(\"GOOGLE_APPLICATION_CREDENTIALS\")"
   ]
  },
  {
   "cell_type": "code",
   "execution_count": 3,
   "metadata": {},
   "outputs": [],
   "source": [
    "csv_filename = os.path.join(os.path.dirname(\"__file__\"), 'bookmarks.csv')\n",
    "df = pd.read_csv(csv_filename)"
   ]
  },
  {
   "cell_type": "code",
   "execution_count": 4,
   "metadata": {},
   "outputs": [
    {
     "data": {
      "text/html": [
       "<div>\n",
       "<style scoped>\n",
       "    .dataframe tbody tr th:only-of-type {\n",
       "        vertical-align: middle;\n",
       "    }\n",
       "\n",
       "    .dataframe tbody tr th {\n",
       "        vertical-align: top;\n",
       "    }\n",
       "\n",
       "    .dataframe thead th {\n",
       "        text-align: right;\n",
       "    }\n",
       "</style>\n",
       "<table border=\"1\" class=\"dataframe\">\n",
       "  <thead>\n",
       "    <tr style=\"text-align: right;\">\n",
       "      <th></th>\n",
       "      <th>Bookmark_ID</th>\n",
       "      <th>Title</th>\n",
       "      <th>Category</th>\n",
       "      <th>URL</th>\n",
       "      <th>Description</th>\n",
       "      <th>Date_Added</th>\n",
       "      <th>Tags</th>\n",
       "    </tr>\n",
       "  </thead>\n",
       "  <tbody>\n",
       "    <tr>\n",
       "      <th>0</th>\n",
       "      <td>1</td>\n",
       "      <td>Cosmetics bag</td>\n",
       "      <td>Sewing Patterns</td>\n",
       "      <td>https://www.youtube.com/watch?v=TW9t0HTK_7E&amp;fe...</td>\n",
       "      <td>FREE PATTERN HERE - http://so-sew-easy.com/eas...</td>\n",
       "      <td>2016-04-10 14:32:02</td>\n",
       "      <td>sewing, crafts</td>\n",
       "    </tr>\n",
       "    <tr>\n",
       "      <th>1</th>\n",
       "      <td>2</td>\n",
       "      <td>Underwear</td>\n",
       "      <td>Sewing Patterns</td>\n",
       "      <td>http://verypurpleperson.com/2013/01/tutorial-s...</td>\n",
       "      <td>Tutorial: Sewing Panties &amp;#8211; verypurpleperson</td>\n",
       "      <td>2016-04-10 14:32:27</td>\n",
       "      <td>sewing, clothes, crafts</td>\n",
       "    </tr>\n",
       "    <tr>\n",
       "      <th>2</th>\n",
       "      <td>11</td>\n",
       "      <td>Crumpet recipe | RecipeTin Eats</td>\n",
       "      <td>Recipes</td>\n",
       "      <td>https://www.recipetineats.com/crumpet-recipe/</td>\n",
       "      <td>This is the crumpet recipe released by Warburt...</td>\n",
       "      <td>2023-04-10 10:44:13</td>\n",
       "      <td>breakfast, recipe, food, bread</td>\n",
       "    </tr>\n",
       "    <tr>\n",
       "      <th>3</th>\n",
       "      <td>101</td>\n",
       "      <td>Feedly</td>\n",
       "      <td>RSS</td>\n",
       "      <td>https://feedly.com/i/my</td>\n",
       "      <td>Welcome to Feedly — the platform where busines...</td>\n",
       "      <td>2023-07-09 20:45:27</td>\n",
       "      <td>rss, blog</td>\n",
       "    </tr>\n",
       "    <tr>\n",
       "      <th>4</th>\n",
       "      <td>102</td>\n",
       "      <td>Starter Packs — You Need Feeds</td>\n",
       "      <td>RSS</td>\n",
       "      <td>https://www.youneedfeeds.com/starter-packs</td>\n",
       "      <td>Interested in web feeds and RSS, but not sure ...</td>\n",
       "      <td>2023-07-10 13:29:54</td>\n",
       "      <td>rss, reference</td>\n",
       "    </tr>\n",
       "  </tbody>\n",
       "</table>\n",
       "</div>"
      ],
      "text/plain": [
       "   Bookmark_ID                            Title         Category  \\\n",
       "0            1                    Cosmetics bag  Sewing Patterns   \n",
       "1            2                        Underwear  Sewing Patterns   \n",
       "2           11  Crumpet recipe | RecipeTin Eats          Recipes   \n",
       "3          101                           Feedly              RSS   \n",
       "4          102   Starter Packs — You Need Feeds              RSS   \n",
       "\n",
       "                                                 URL  \\\n",
       "0  https://www.youtube.com/watch?v=TW9t0HTK_7E&fe...   \n",
       "1  http://verypurpleperson.com/2013/01/tutorial-s...   \n",
       "2      https://www.recipetineats.com/crumpet-recipe/   \n",
       "3                            https://feedly.com/i/my   \n",
       "4         https://www.youneedfeeds.com/starter-packs   \n",
       "\n",
       "                                         Description           Date_Added  \\\n",
       "0  FREE PATTERN HERE - http://so-sew-easy.com/eas...  2016-04-10 14:32:02   \n",
       "1  Tutorial: Sewing Panties &#8211; verypurpleperson  2016-04-10 14:32:27   \n",
       "2  This is the crumpet recipe released by Warburt...  2023-04-10 10:44:13   \n",
       "3  Welcome to Feedly — the platform where busines...  2023-07-09 20:45:27   \n",
       "4  Interested in web feeds and RSS, but not sure ...  2023-07-10 13:29:54   \n",
       "\n",
       "                             Tags  \n",
       "0                  sewing, crafts  \n",
       "1         sewing, clothes, crafts  \n",
       "2  breakfast, recipe, food, bread  \n",
       "3                       rss, blog  \n",
       "4                  rss, reference  "
      ]
     },
     "execution_count": 4,
     "metadata": {},
     "output_type": "execute_result"
    }
   ],
   "source": [
    "df.head()"
   ]
  },
  {
   "cell_type": "code",
   "execution_count": 5,
   "metadata": {},
   "outputs": [],
   "source": [
    "# First we'll make our category IDs table\n",
    "unique_categories = df['Category'].unique()"
   ]
  },
  {
   "cell_type": "code",
   "execution_count": 6,
   "metadata": {},
   "outputs": [],
   "source": [
    "# Create a dataframe from this new array with an autoincrementing index\n",
    "df_categories = pd.DataFrame(unique_categories, columns=['Category'])"
   ]
  },
  {
   "cell_type": "code",
   "execution_count": 7,
   "metadata": {},
   "outputs": [],
   "source": [
    "df_categories['Category_ID'] = df_categories.index"
   ]
  },
  {
   "cell_type": "code",
   "execution_count": 8,
   "metadata": {},
   "outputs": [
    {
     "data": {
      "text/html": [
       "<div>\n",
       "<style scoped>\n",
       "    .dataframe tbody tr th:only-of-type {\n",
       "        vertical-align: middle;\n",
       "    }\n",
       "\n",
       "    .dataframe tbody tr th {\n",
       "        vertical-align: top;\n",
       "    }\n",
       "\n",
       "    .dataframe thead th {\n",
       "        text-align: right;\n",
       "    }\n",
       "</style>\n",
       "<table border=\"1\" class=\"dataframe\">\n",
       "  <thead>\n",
       "    <tr style=\"text-align: right;\">\n",
       "      <th></th>\n",
       "      <th>Category</th>\n",
       "      <th>Category_ID</th>\n",
       "    </tr>\n",
       "  </thead>\n",
       "  <tbody>\n",
       "    <tr>\n",
       "      <th>0</th>\n",
       "      <td>Sewing Patterns</td>\n",
       "      <td>0</td>\n",
       "    </tr>\n",
       "    <tr>\n",
       "      <th>1</th>\n",
       "      <td>Recipes</td>\n",
       "      <td>1</td>\n",
       "    </tr>\n",
       "    <tr>\n",
       "      <th>2</th>\n",
       "      <td>RSS</td>\n",
       "      <td>2</td>\n",
       "    </tr>\n",
       "    <tr>\n",
       "      <th>3</th>\n",
       "      <td>Blogs</td>\n",
       "      <td>3</td>\n",
       "    </tr>\n",
       "    <tr>\n",
       "      <th>4</th>\n",
       "      <td>Socials</td>\n",
       "      <td>4</td>\n",
       "    </tr>\n",
       "  </tbody>\n",
       "</table>\n",
       "</div>"
      ],
      "text/plain": [
       "          Category  Category_ID\n",
       "0  Sewing Patterns            0\n",
       "1          Recipes            1\n",
       "2              RSS            2\n",
       "3            Blogs            3\n",
       "4          Socials            4"
      ]
     },
     "execution_count": 8,
     "metadata": {},
     "output_type": "execute_result"
    }
   ],
   "source": [
    "df_categories.head()\n"
   ]
  },
  {
   "cell_type": "code",
   "execution_count": 27,
   "metadata": {},
   "outputs": [],
   "source": [
    "# Rename Categories to Name\n",
    "df_categories = df_categories.rename(columns={'Category': 'Name'})"
   ]
  },
  {
   "cell_type": "code",
   "execution_count": 28,
   "metadata": {},
   "outputs": [],
   "source": [
    "# Cool let's send it to BQ\n",
    "from google.cloud import bigquery\n",
    "project_id = \"bookmarks-414106\"\n",
    "dataset_id = \"bookmarks_data\"\n",
    "table_name = 'categories'"
   ]
  },
  {
   "cell_type": "code",
   "execution_count": 29,
   "metadata": {},
   "outputs": [
    {
     "data": {
      "text/plain": [
       "LoadJob<project=bookmarks-414106, location=europe-west2, id=bfcc7127-cc16-452b-8ae0-d4b7d3cad877>"
      ]
     },
     "execution_count": 29,
     "metadata": {},
     "output_type": "execute_result"
    }
   ],
   "source": [
    "# Let's send that shit\n",
    "from google.cloud import bigquery\n",
    "\n",
    "# Construct a BigQuery client object.\n",
    "client = bigquery.Client()\n",
    "\n",
    "table_id = f\"{project_id}.{dataset_id}.{table_name}\"\n",
    "\n",
    "client.load_table_from_dataframe(df_categories, table_id)"
   ]
  },
  {
   "cell_type": "code",
   "execution_count": 105,
   "metadata": {},
   "outputs": [],
   "source": [
    "df_tags = df['Tags']"
   ]
  },
  {
   "cell_type": "code",
   "execution_count": 106,
   "metadata": {},
   "outputs": [],
   "source": [
    "df_tags = pd.DataFrame(df_tags)"
   ]
  },
  {
   "cell_type": "code",
   "execution_count": 107,
   "metadata": {},
   "outputs": [
    {
     "data": {
      "text/html": [
       "<div>\n",
       "<style scoped>\n",
       "    .dataframe tbody tr th:only-of-type {\n",
       "        vertical-align: middle;\n",
       "    }\n",
       "\n",
       "    .dataframe tbody tr th {\n",
       "        vertical-align: top;\n",
       "    }\n",
       "\n",
       "    .dataframe thead th {\n",
       "        text-align: right;\n",
       "    }\n",
       "</style>\n",
       "<table border=\"1\" class=\"dataframe\">\n",
       "  <thead>\n",
       "    <tr style=\"text-align: right;\">\n",
       "      <th></th>\n",
       "      <th>Tags</th>\n",
       "    </tr>\n",
       "  </thead>\n",
       "  <tbody>\n",
       "    <tr>\n",
       "      <th>0</th>\n",
       "      <td>sewing, crafts</td>\n",
       "    </tr>\n",
       "    <tr>\n",
       "      <th>1</th>\n",
       "      <td>sewing, clothes, crafts</td>\n",
       "    </tr>\n",
       "    <tr>\n",
       "      <th>2</th>\n",
       "      <td>breakfast, recipe, food, bread</td>\n",
       "    </tr>\n",
       "    <tr>\n",
       "      <th>3</th>\n",
       "      <td>rss, blog</td>\n",
       "    </tr>\n",
       "    <tr>\n",
       "      <th>4</th>\n",
       "      <td>rss, reference</td>\n",
       "    </tr>\n",
       "  </tbody>\n",
       "</table>\n",
       "</div>"
      ],
      "text/plain": [
       "                             Tags\n",
       "0                  sewing, crafts\n",
       "1         sewing, clothes, crafts\n",
       "2  breakfast, recipe, food, bread\n",
       "3                       rss, blog\n",
       "4                  rss, reference"
      ]
     },
     "execution_count": 107,
     "metadata": {},
     "output_type": "execute_result"
    }
   ],
   "source": [
    "df_tags.head()"
   ]
  },
  {
   "cell_type": "code",
   "execution_count": 108,
   "metadata": {},
   "outputs": [],
   "source": [
    "df_tags['Tags'] = df_tags['Tags'].str.split(\", \")"
   ]
  },
  {
   "cell_type": "code",
   "execution_count": 110,
   "metadata": {},
   "outputs": [],
   "source": [
    "df_tags = df_tags.explode('Tags')"
   ]
  },
  {
   "cell_type": "code",
   "execution_count": 112,
   "metadata": {},
   "outputs": [],
   "source": [
    "df_tags = df_tags.drop_duplicates()"
   ]
  },
  {
   "cell_type": "code",
   "execution_count": 115,
   "metadata": {},
   "outputs": [
    {
     "data": {
      "text/plain": [
       "(158, 1)"
      ]
     },
     "execution_count": 115,
     "metadata": {},
     "output_type": "execute_result"
    }
   ],
   "source": [
    "df_tags.shape"
   ]
  },
  {
   "cell_type": "code",
   "execution_count": 116,
   "metadata": {},
   "outputs": [
    {
     "data": {
      "text/plain": [
       "158"
      ]
     },
     "execution_count": 116,
     "metadata": {},
     "output_type": "execute_result"
    }
   ],
   "source": [
    "len(df_tags['Tags'].unique())"
   ]
  },
  {
   "cell_type": "code",
   "execution_count": 117,
   "metadata": {},
   "outputs": [],
   "source": [
    "# Now create an index\n",
    "df_tags['Tag_ID'] = [i for i in range(158)]"
   ]
  },
  {
   "cell_type": "code",
   "execution_count": 133,
   "metadata": {},
   "outputs": [
    {
     "data": {
      "text/html": [
       "<div>\n",
       "<style scoped>\n",
       "    .dataframe tbody tr th:only-of-type {\n",
       "        vertical-align: middle;\n",
       "    }\n",
       "\n",
       "    .dataframe tbody tr th {\n",
       "        vertical-align: top;\n",
       "    }\n",
       "\n",
       "    .dataframe thead th {\n",
       "        text-align: right;\n",
       "    }\n",
       "</style>\n",
       "<table border=\"1\" class=\"dataframe\">\n",
       "  <thead>\n",
       "    <tr style=\"text-align: right;\">\n",
       "      <th></th>\n",
       "      <th>Name</th>\n",
       "      <th>Tag_ID</th>\n",
       "    </tr>\n",
       "  </thead>\n",
       "  <tbody>\n",
       "    <tr>\n",
       "      <th>0</th>\n",
       "      <td>sewing</td>\n",
       "      <td>0</td>\n",
       "    </tr>\n",
       "    <tr>\n",
       "      <th>0</th>\n",
       "      <td>crafts</td>\n",
       "      <td>1</td>\n",
       "    </tr>\n",
       "    <tr>\n",
       "      <th>1</th>\n",
       "      <td>clothes</td>\n",
       "      <td>2</td>\n",
       "    </tr>\n",
       "    <tr>\n",
       "      <th>2</th>\n",
       "      <td>breakfast</td>\n",
       "      <td>3</td>\n",
       "    </tr>\n",
       "    <tr>\n",
       "      <th>2</th>\n",
       "      <td>recipe</td>\n",
       "      <td>4</td>\n",
       "    </tr>\n",
       "  </tbody>\n",
       "</table>\n",
       "</div>"
      ],
      "text/plain": [
       "        Name  Tag_ID\n",
       "0     sewing       0\n",
       "0     crafts       1\n",
       "1    clothes       2\n",
       "2  breakfast       3\n",
       "2     recipe       4"
      ]
     },
     "execution_count": 133,
     "metadata": {},
     "output_type": "execute_result"
    }
   ],
   "source": [
    "df_tags.head()"
   ]
  },
  {
   "cell_type": "code",
   "execution_count": 132,
   "metadata": {},
   "outputs": [],
   "source": [
    "df_tags = df_tags.rename({\"Tags\": \"Name\"}, axis=1)"
   ]
  },
  {
   "cell_type": "code",
   "execution_count": 134,
   "metadata": {},
   "outputs": [
    {
     "data": {
      "text/plain": [
       "LoadJob<project=bookmarks-414106, location=europe-west2, id=833cd4c7-014f-4d01-93bc-919ed8302bfe>"
      ]
     },
     "execution_count": 134,
     "metadata": {},
     "output_type": "execute_result"
    }
   ],
   "source": [
    "table_name = \"tags\"\n",
    "\n",
    "# Send to BQ as before\n",
    "table_id = f\"{project_id}.{dataset_id}.{table_name}\"\n",
    "client.load_table_from_dataframe( df_tags, table_id)"
   ]
  },
  {
   "cell_type": "code",
   "execution_count": 63,
   "metadata": {},
   "outputs": [
    {
     "data": {
      "text/html": [
       "<div>\n",
       "<style scoped>\n",
       "    .dataframe tbody tr th:only-of-type {\n",
       "        vertical-align: middle;\n",
       "    }\n",
       "\n",
       "    .dataframe tbody tr th {\n",
       "        vertical-align: top;\n",
       "    }\n",
       "\n",
       "    .dataframe thead th {\n",
       "        text-align: right;\n",
       "    }\n",
       "</style>\n",
       "<table border=\"1\" class=\"dataframe\">\n",
       "  <thead>\n",
       "    <tr style=\"text-align: right;\">\n",
       "      <th></th>\n",
       "      <th>Bookmark_ID</th>\n",
       "      <th>Title</th>\n",
       "      <th>URL</th>\n",
       "      <th>Description</th>\n",
       "      <th>Date_Added</th>\n",
       "      <th>Category</th>\n",
       "    </tr>\n",
       "  </thead>\n",
       "  <tbody>\n",
       "    <tr>\n",
       "      <th>0</th>\n",
       "      <td>1</td>\n",
       "      <td>Cosmetics bag</td>\n",
       "      <td>https://www.youtube.com/watch?v=TW9t0HTK_7E&amp;fe...</td>\n",
       "      <td>FREE PATTERN HERE - http://so-sew-easy.com/eas...</td>\n",
       "      <td>2016-04-10 14:32:02</td>\n",
       "      <td>Sewing Patterns</td>\n",
       "    </tr>\n",
       "    <tr>\n",
       "      <th>1</th>\n",
       "      <td>2</td>\n",
       "      <td>Underwear</td>\n",
       "      <td>http://verypurpleperson.com/2013/01/tutorial-s...</td>\n",
       "      <td>Tutorial: Sewing Panties &amp;#8211; verypurpleperson</td>\n",
       "      <td>2016-04-10 14:32:27</td>\n",
       "      <td>Sewing Patterns</td>\n",
       "    </tr>\n",
       "    <tr>\n",
       "      <th>2</th>\n",
       "      <td>11</td>\n",
       "      <td>Crumpet recipe | RecipeTin Eats</td>\n",
       "      <td>https://www.recipetineats.com/crumpet-recipe/</td>\n",
       "      <td>This is the crumpet recipe released by Warburt...</td>\n",
       "      <td>2023-04-10 10:44:13</td>\n",
       "      <td>Recipes</td>\n",
       "    </tr>\n",
       "    <tr>\n",
       "      <th>3</th>\n",
       "      <td>101</td>\n",
       "      <td>Feedly</td>\n",
       "      <td>https://feedly.com/i/my</td>\n",
       "      <td>Welcome to Feedly — the platform where busines...</td>\n",
       "      <td>2023-07-09 20:45:27</td>\n",
       "      <td>RSS</td>\n",
       "    </tr>\n",
       "    <tr>\n",
       "      <th>4</th>\n",
       "      <td>102</td>\n",
       "      <td>Starter Packs — You Need Feeds</td>\n",
       "      <td>https://www.youneedfeeds.com/starter-packs</td>\n",
       "      <td>Interested in web feeds and RSS, but not sure ...</td>\n",
       "      <td>2023-07-10 13:29:54</td>\n",
       "      <td>RSS</td>\n",
       "    </tr>\n",
       "  </tbody>\n",
       "</table>\n",
       "</div>"
      ],
      "text/plain": [
       "   Bookmark_ID                            Title  \\\n",
       "0            1                    Cosmetics bag   \n",
       "1            2                        Underwear   \n",
       "2           11  Crumpet recipe | RecipeTin Eats   \n",
       "3          101                           Feedly   \n",
       "4          102   Starter Packs — You Need Feeds   \n",
       "\n",
       "                                                 URL  \\\n",
       "0  https://www.youtube.com/watch?v=TW9t0HTK_7E&fe...   \n",
       "1  http://verypurpleperson.com/2013/01/tutorial-s...   \n",
       "2      https://www.recipetineats.com/crumpet-recipe/   \n",
       "3                            https://feedly.com/i/my   \n",
       "4         https://www.youneedfeeds.com/starter-packs   \n",
       "\n",
       "                                         Description           Date_Added  \\\n",
       "0  FREE PATTERN HERE - http://so-sew-easy.com/eas...  2016-04-10 14:32:02   \n",
       "1  Tutorial: Sewing Panties &#8211; verypurpleperson  2016-04-10 14:32:27   \n",
       "2  This is the crumpet recipe released by Warburt...  2023-04-10 10:44:13   \n",
       "3  Welcome to Feedly — the platform where busines...  2023-07-09 20:45:27   \n",
       "4  Interested in web feeds and RSS, but not sure ...  2023-07-10 13:29:54   \n",
       "\n",
       "          Category  \n",
       "0  Sewing Patterns  \n",
       "1  Sewing Patterns  \n",
       "2          Recipes  \n",
       "3              RSS  \n",
       "4              RSS  "
      ]
     },
     "execution_count": 63,
     "metadata": {},
     "output_type": "execute_result"
    }
   ],
   "source": [
    "bookmark_table_columns = [\"Bookmark_ID\", \"Title\", \"URL\", \"Description\", \"Date_Added\", \"Category\"]\n",
    "bookmarks_df = df[bookmark_table_columns]\n",
    "bookmarks_df.head()"
   ]
  },
  {
   "cell_type": "code",
   "execution_count": 64,
   "metadata": {},
   "outputs": [
    {
     "name": "stderr",
     "output_type": "stream",
     "text": [
      "/tmp/ipykernel_17213/1230923170.py:1: SettingWithCopyWarning: \n",
      "A value is trying to be set on a copy of a slice from a DataFrame.\n",
      "Try using .loc[row_indexer,col_indexer] = value instead\n",
      "\n",
      "See the caveats in the documentation: https://pandas.pydata.org/pandas-docs/stable/user_guide/indexing.html#returning-a-view-versus-a-copy\n",
      "  bookmarks_df[\"Date_Added\"] = pd.to_datetime(bookmarks_df[\"Date_Added\"])\n"
     ]
    }
   ],
   "source": [
    "bookmarks_df[\"Date_Added\"] = pd.to_datetime(bookmarks_df[\"Date_Added\"])"
   ]
  },
  {
   "cell_type": "code",
   "execution_count": 68,
   "metadata": {},
   "outputs": [],
   "source": [
    "# Merge on categories_df\n",
    "bookmarks_df = pd.merge(left=bookmarks_df, right=df_categories, left_on=\"Category\", right_on=\"Name\")"
   ]
  },
  {
   "cell_type": "code",
   "execution_count": 69,
   "metadata": {},
   "outputs": [],
   "source": [
    "# Drop both Category and Name\n",
    "bookmarks_df.drop(labels=['Name', 'Category'], inplace=True, axis=1)"
   ]
  },
  {
   "cell_type": "code",
   "execution_count": 70,
   "metadata": {},
   "outputs": [
    {
     "data": {
      "text/html": [
       "<div>\n",
       "<style scoped>\n",
       "    .dataframe tbody tr th:only-of-type {\n",
       "        vertical-align: middle;\n",
       "    }\n",
       "\n",
       "    .dataframe tbody tr th {\n",
       "        vertical-align: top;\n",
       "    }\n",
       "\n",
       "    .dataframe thead th {\n",
       "        text-align: right;\n",
       "    }\n",
       "</style>\n",
       "<table border=\"1\" class=\"dataframe\">\n",
       "  <thead>\n",
       "    <tr style=\"text-align: right;\">\n",
       "      <th></th>\n",
       "      <th>Bookmark_ID</th>\n",
       "      <th>Title</th>\n",
       "      <th>URL</th>\n",
       "      <th>Description</th>\n",
       "      <th>Date_Added</th>\n",
       "      <th>Category_ID</th>\n",
       "    </tr>\n",
       "  </thead>\n",
       "  <tbody>\n",
       "    <tr>\n",
       "      <th>0</th>\n",
       "      <td>1</td>\n",
       "      <td>Cosmetics bag</td>\n",
       "      <td>https://www.youtube.com/watch?v=TW9t0HTK_7E&amp;fe...</td>\n",
       "      <td>FREE PATTERN HERE - http://so-sew-easy.com/eas...</td>\n",
       "      <td>2016-04-10 14:32:02</td>\n",
       "      <td>0</td>\n",
       "    </tr>\n",
       "    <tr>\n",
       "      <th>1</th>\n",
       "      <td>2</td>\n",
       "      <td>Underwear</td>\n",
       "      <td>http://verypurpleperson.com/2013/01/tutorial-s...</td>\n",
       "      <td>Tutorial: Sewing Panties &amp;#8211; verypurpleperson</td>\n",
       "      <td>2016-04-10 14:32:27</td>\n",
       "      <td>0</td>\n",
       "    </tr>\n",
       "    <tr>\n",
       "      <th>2</th>\n",
       "      <td>3</td>\n",
       "      <td>Bra</td>\n",
       "      <td>http://www.instructables.com/id/Bra/</td>\n",
       "      <td>Bra: A bra is a bit more advanced project, but...</td>\n",
       "      <td>2016-04-10 18:29:46</td>\n",
       "      <td>0</td>\n",
       "    </tr>\n",
       "    <tr>\n",
       "      <th>3</th>\n",
       "      <td>4</td>\n",
       "      <td>Boxer Shorts</td>\n",
       "      <td>http://www.measuretwicecutonce.com.au/product/...</td>\n",
       "      <td>PATTERN DESCRIPTION Like their namesake Mr Dar...</td>\n",
       "      <td>2016-04-11 19:52:37</td>\n",
       "      <td>0</td>\n",
       "    </tr>\n",
       "    <tr>\n",
       "      <th>4</th>\n",
       "      <td>5</td>\n",
       "      <td>Modern Sewing Patterns</td>\n",
       "      <td>http://m-sewing.com/</td>\n",
       "      <td>Sewing patterns catalog of stylish clothing. N...</td>\n",
       "      <td>2016-04-16 21:12:44</td>\n",
       "      <td>0</td>\n",
       "    </tr>\n",
       "  </tbody>\n",
       "</table>\n",
       "</div>"
      ],
      "text/plain": [
       "   Bookmark_ID                   Title  \\\n",
       "0            1           Cosmetics bag   \n",
       "1            2               Underwear   \n",
       "2            3                     Bra   \n",
       "3            4            Boxer Shorts   \n",
       "4            5  Modern Sewing Patterns   \n",
       "\n",
       "                                                 URL  \\\n",
       "0  https://www.youtube.com/watch?v=TW9t0HTK_7E&fe...   \n",
       "1  http://verypurpleperson.com/2013/01/tutorial-s...   \n",
       "2               http://www.instructables.com/id/Bra/   \n",
       "3  http://www.measuretwicecutonce.com.au/product/...   \n",
       "4                               http://m-sewing.com/   \n",
       "\n",
       "                                         Description          Date_Added  \\\n",
       "0  FREE PATTERN HERE - http://so-sew-easy.com/eas... 2016-04-10 14:32:02   \n",
       "1  Tutorial: Sewing Panties &#8211; verypurpleperson 2016-04-10 14:32:27   \n",
       "2  Bra: A bra is a bit more advanced project, but... 2016-04-10 18:29:46   \n",
       "3  PATTERN DESCRIPTION Like their namesake Mr Dar... 2016-04-11 19:52:37   \n",
       "4  Sewing patterns catalog of stylish clothing. N... 2016-04-16 21:12:44   \n",
       "\n",
       "   Category_ID  \n",
       "0            0  \n",
       "1            0  \n",
       "2            0  \n",
       "3            0  \n",
       "4            0  "
      ]
     },
     "execution_count": 70,
     "metadata": {},
     "output_type": "execute_result"
    }
   ],
   "source": [
    "bookmarks_df.head()"
   ]
  },
  {
   "cell_type": "code",
   "execution_count": 71,
   "metadata": {},
   "outputs": [
    {
     "data": {
      "text/plain": [
       "LoadJob<project=bookmarks-414106, location=europe-west2, id=465cfe68-d6b1-41a6-9db2-a50518b16474>"
      ]
     },
     "execution_count": 71,
     "metadata": {},
     "output_type": "execute_result"
    }
   ],
   "source": [
    "table_name = \"bookmarks\"\n",
    "\n",
    "# Send to BQ as before\n",
    "table_id = f\"{project_id}.{dataset_id}.{table_name}\"\n",
    "client.load_table_from_dataframe(bookmarks_df, table_id)"
   ]
  },
  {
   "cell_type": "code",
   "execution_count": 72,
   "metadata": {},
   "outputs": [
    {
     "data": {
      "text/html": [
       "<div>\n",
       "<style scoped>\n",
       "    .dataframe tbody tr th:only-of-type {\n",
       "        vertical-align: middle;\n",
       "    }\n",
       "\n",
       "    .dataframe tbody tr th {\n",
       "        vertical-align: top;\n",
       "    }\n",
       "\n",
       "    .dataframe thead th {\n",
       "        text-align: right;\n",
       "    }\n",
       "</style>\n",
       "<table border=\"1\" class=\"dataframe\">\n",
       "  <thead>\n",
       "    <tr style=\"text-align: right;\">\n",
       "      <th></th>\n",
       "      <th>Bookmark_ID</th>\n",
       "      <th>Title</th>\n",
       "      <th>Category</th>\n",
       "      <th>URL</th>\n",
       "      <th>Description</th>\n",
       "      <th>Date_Added</th>\n",
       "      <th>Tags</th>\n",
       "    </tr>\n",
       "  </thead>\n",
       "  <tbody>\n",
       "    <tr>\n",
       "      <th>0</th>\n",
       "      <td>1</td>\n",
       "      <td>Cosmetics bag</td>\n",
       "      <td>Sewing Patterns</td>\n",
       "      <td>https://www.youtube.com/watch?v=TW9t0HTK_7E&amp;fe...</td>\n",
       "      <td>FREE PATTERN HERE - http://so-sew-easy.com/eas...</td>\n",
       "      <td>2016-04-10 14:32:02</td>\n",
       "      <td>sewing, crafts</td>\n",
       "    </tr>\n",
       "    <tr>\n",
       "      <th>1</th>\n",
       "      <td>2</td>\n",
       "      <td>Underwear</td>\n",
       "      <td>Sewing Patterns</td>\n",
       "      <td>http://verypurpleperson.com/2013/01/tutorial-s...</td>\n",
       "      <td>Tutorial: Sewing Panties &amp;#8211; verypurpleperson</td>\n",
       "      <td>2016-04-10 14:32:27</td>\n",
       "      <td>sewing, clothes, crafts</td>\n",
       "    </tr>\n",
       "    <tr>\n",
       "      <th>2</th>\n",
       "      <td>11</td>\n",
       "      <td>Crumpet recipe | RecipeTin Eats</td>\n",
       "      <td>Recipes</td>\n",
       "      <td>https://www.recipetineats.com/crumpet-recipe/</td>\n",
       "      <td>This is the crumpet recipe released by Warburt...</td>\n",
       "      <td>2023-04-10 10:44:13</td>\n",
       "      <td>breakfast, recipe, food, bread</td>\n",
       "    </tr>\n",
       "    <tr>\n",
       "      <th>3</th>\n",
       "      <td>101</td>\n",
       "      <td>Feedly</td>\n",
       "      <td>RSS</td>\n",
       "      <td>https://feedly.com/i/my</td>\n",
       "      <td>Welcome to Feedly — the platform where busines...</td>\n",
       "      <td>2023-07-09 20:45:27</td>\n",
       "      <td>rss, blog</td>\n",
       "    </tr>\n",
       "    <tr>\n",
       "      <th>4</th>\n",
       "      <td>102</td>\n",
       "      <td>Starter Packs — You Need Feeds</td>\n",
       "      <td>RSS</td>\n",
       "      <td>https://www.youneedfeeds.com/starter-packs</td>\n",
       "      <td>Interested in web feeds and RSS, but not sure ...</td>\n",
       "      <td>2023-07-10 13:29:54</td>\n",
       "      <td>rss, reference</td>\n",
       "    </tr>\n",
       "  </tbody>\n",
       "</table>\n",
       "</div>"
      ],
      "text/plain": [
       "   Bookmark_ID                            Title         Category  \\\n",
       "0            1                    Cosmetics bag  Sewing Patterns   \n",
       "1            2                        Underwear  Sewing Patterns   \n",
       "2           11  Crumpet recipe | RecipeTin Eats          Recipes   \n",
       "3          101                           Feedly              RSS   \n",
       "4          102   Starter Packs — You Need Feeds              RSS   \n",
       "\n",
       "                                                 URL  \\\n",
       "0  https://www.youtube.com/watch?v=TW9t0HTK_7E&fe...   \n",
       "1  http://verypurpleperson.com/2013/01/tutorial-s...   \n",
       "2      https://www.recipetineats.com/crumpet-recipe/   \n",
       "3                            https://feedly.com/i/my   \n",
       "4         https://www.youneedfeeds.com/starter-packs   \n",
       "\n",
       "                                         Description           Date_Added  \\\n",
       "0  FREE PATTERN HERE - http://so-sew-easy.com/eas...  2016-04-10 14:32:02   \n",
       "1  Tutorial: Sewing Panties &#8211; verypurpleperson  2016-04-10 14:32:27   \n",
       "2  This is the crumpet recipe released by Warburt...  2023-04-10 10:44:13   \n",
       "3  Welcome to Feedly — the platform where busines...  2023-07-09 20:45:27   \n",
       "4  Interested in web feeds and RSS, but not sure ...  2023-07-10 13:29:54   \n",
       "\n",
       "                             Tags  \n",
       "0                  sewing, crafts  \n",
       "1         sewing, clothes, crafts  \n",
       "2  breakfast, recipe, food, bread  \n",
       "3                       rss, blog  \n",
       "4                  rss, reference  "
      ]
     },
     "execution_count": 72,
     "metadata": {},
     "output_type": "execute_result"
    }
   ],
   "source": [
    "# Create the bookmarktags table\n",
    "df.head()"
   ]
  },
  {
   "cell_type": "code",
   "execution_count": 97,
   "metadata": {},
   "outputs": [],
   "source": [
    "# First we have to explode the tags column\n",
    "bookmark_tags_df = df.copy()\n",
    "bookmark_tags_df['Tags'] = bookmark_tags_df['Tags'].str.split(', ')"
   ]
  },
  {
   "cell_type": "code",
   "execution_count": 98,
   "metadata": {},
   "outputs": [],
   "source": [
    "bookmark_tags_df = bookmark_tags_df.explode('Tags')"
   ]
  },
  {
   "cell_type": "code",
   "execution_count": 99,
   "metadata": {},
   "outputs": [],
   "source": [
    "# Drop all but Tags and Bookmark_ID\n",
    "bookmark_tags_df = bookmark_tags_df[['Bookmark_ID', 'Tags']]"
   ]
  },
  {
   "cell_type": "code",
   "execution_count": 135,
   "metadata": {},
   "outputs": [
    {
     "data": {
      "text/html": [
       "<div>\n",
       "<style scoped>\n",
       "    .dataframe tbody tr th:only-of-type {\n",
       "        vertical-align: middle;\n",
       "    }\n",
       "\n",
       "    .dataframe tbody tr th {\n",
       "        vertical-align: top;\n",
       "    }\n",
       "\n",
       "    .dataframe thead th {\n",
       "        text-align: right;\n",
       "    }\n",
       "</style>\n",
       "<table border=\"1\" class=\"dataframe\">\n",
       "  <thead>\n",
       "    <tr style=\"text-align: right;\">\n",
       "      <th></th>\n",
       "      <th>Bookmark_ID</th>\n",
       "      <th>Tags</th>\n",
       "    </tr>\n",
       "  </thead>\n",
       "  <tbody>\n",
       "    <tr>\n",
       "      <th>0</th>\n",
       "      <td>1</td>\n",
       "      <td>sewing</td>\n",
       "    </tr>\n",
       "    <tr>\n",
       "      <th>0</th>\n",
       "      <td>1</td>\n",
       "      <td>crafts</td>\n",
       "    </tr>\n",
       "    <tr>\n",
       "      <th>1</th>\n",
       "      <td>2</td>\n",
       "      <td>sewing</td>\n",
       "    </tr>\n",
       "    <tr>\n",
       "      <th>1</th>\n",
       "      <td>2</td>\n",
       "      <td>clothes</td>\n",
       "    </tr>\n",
       "    <tr>\n",
       "      <th>1</th>\n",
       "      <td>2</td>\n",
       "      <td>crafts</td>\n",
       "    </tr>\n",
       "  </tbody>\n",
       "</table>\n",
       "</div>"
      ],
      "text/plain": [
       "   Bookmark_ID     Tags\n",
       "0            1   sewing\n",
       "0            1   crafts\n",
       "1            2   sewing\n",
       "1            2  clothes\n",
       "1            2   crafts"
      ]
     },
     "execution_count": 135,
     "metadata": {},
     "output_type": "execute_result"
    }
   ],
   "source": [
    "bookmark_tags_df.head()"
   ]
  },
  {
   "cell_type": "code",
   "execution_count": 136,
   "metadata": {},
   "outputs": [],
   "source": [
    "# Merge with tags_df\n",
    "bookmark_tags_df = pd.merge(left=bookmark_tags_df, right=df_tags, left_on=\"Tags\", right_on=\"Name\")"
   ]
  },
  {
   "cell_type": "code",
   "execution_count": 137,
   "metadata": {},
   "outputs": [
    {
     "data": {
      "text/html": [
       "<div>\n",
       "<style scoped>\n",
       "    .dataframe tbody tr th:only-of-type {\n",
       "        vertical-align: middle;\n",
       "    }\n",
       "\n",
       "    .dataframe tbody tr th {\n",
       "        vertical-align: top;\n",
       "    }\n",
       "\n",
       "    .dataframe thead th {\n",
       "        text-align: right;\n",
       "    }\n",
       "</style>\n",
       "<table border=\"1\" class=\"dataframe\">\n",
       "  <thead>\n",
       "    <tr style=\"text-align: right;\">\n",
       "      <th></th>\n",
       "      <th>Bookmark_ID</th>\n",
       "      <th>Tags</th>\n",
       "      <th>Name</th>\n",
       "      <th>Tag_ID</th>\n",
       "    </tr>\n",
       "  </thead>\n",
       "  <tbody>\n",
       "    <tr>\n",
       "      <th>0</th>\n",
       "      <td>1</td>\n",
       "      <td>sewing</td>\n",
       "      <td>sewing</td>\n",
       "      <td>0</td>\n",
       "    </tr>\n",
       "    <tr>\n",
       "      <th>1</th>\n",
       "      <td>2</td>\n",
       "      <td>sewing</td>\n",
       "      <td>sewing</td>\n",
       "      <td>0</td>\n",
       "    </tr>\n",
       "    <tr>\n",
       "      <th>2</th>\n",
       "      <td>3</td>\n",
       "      <td>sewing</td>\n",
       "      <td>sewing</td>\n",
       "      <td>0</td>\n",
       "    </tr>\n",
       "    <tr>\n",
       "      <th>3</th>\n",
       "      <td>4</td>\n",
       "      <td>sewing</td>\n",
       "      <td>sewing</td>\n",
       "      <td>0</td>\n",
       "    </tr>\n",
       "    <tr>\n",
       "      <th>4</th>\n",
       "      <td>5</td>\n",
       "      <td>sewing</td>\n",
       "      <td>sewing</td>\n",
       "      <td>0</td>\n",
       "    </tr>\n",
       "    <tr>\n",
       "      <th>...</th>\n",
       "      <td>...</td>\n",
       "      <td>...</td>\n",
       "      <td>...</td>\n",
       "      <td>...</td>\n",
       "    </tr>\n",
       "    <tr>\n",
       "      <th>1064</th>\n",
       "      <td>88</td>\n",
       "      <td>slack</td>\n",
       "      <td>slack</td>\n",
       "      <td>154</td>\n",
       "    </tr>\n",
       "    <tr>\n",
       "      <th>1065</th>\n",
       "      <td>97</td>\n",
       "      <td>gambling</td>\n",
       "      <td>gambling</td>\n",
       "      <td>155</td>\n",
       "    </tr>\n",
       "    <tr>\n",
       "      <th>1066</th>\n",
       "      <td>97</td>\n",
       "      <td>horse-racing</td>\n",
       "      <td>horse-racing</td>\n",
       "      <td>156</td>\n",
       "    </tr>\n",
       "    <tr>\n",
       "      <th>1067</th>\n",
       "      <td>98</td>\n",
       "      <td>pixel-art</td>\n",
       "      <td>pixel-art</td>\n",
       "      <td>157</td>\n",
       "    </tr>\n",
       "    <tr>\n",
       "      <th>1068</th>\n",
       "      <td>99</td>\n",
       "      <td>pixel-art</td>\n",
       "      <td>pixel-art</td>\n",
       "      <td>157</td>\n",
       "    </tr>\n",
       "  </tbody>\n",
       "</table>\n",
       "<p>1069 rows × 4 columns</p>\n",
       "</div>"
      ],
      "text/plain": [
       "      Bookmark_ID          Tags          Name  Tag_ID\n",
       "0               1        sewing        sewing       0\n",
       "1               2        sewing        sewing       0\n",
       "2               3        sewing        sewing       0\n",
       "3               4        sewing        sewing       0\n",
       "4               5        sewing        sewing       0\n",
       "...           ...           ...           ...     ...\n",
       "1064           88         slack         slack     154\n",
       "1065           97      gambling      gambling     155\n",
       "1066           97  horse-racing  horse-racing     156\n",
       "1067           98     pixel-art     pixel-art     157\n",
       "1068           99     pixel-art     pixel-art     157\n",
       "\n",
       "[1069 rows x 4 columns]"
      ]
     },
     "execution_count": 137,
     "metadata": {},
     "output_type": "execute_result"
    }
   ],
   "source": [
    "bookmark_tags_df"
   ]
  },
  {
   "cell_type": "code",
   "execution_count": 138,
   "metadata": {},
   "outputs": [],
   "source": [
    "# Now drop the Tags and Name columns\n",
    "bookmark_tags_df.drop(labels=['Tags', 'Name'], inplace=True, axis=1)"
   ]
  },
  {
   "cell_type": "code",
   "execution_count": 139,
   "metadata": {},
   "outputs": [
    {
     "data": {
      "text/html": [
       "<div>\n",
       "<style scoped>\n",
       "    .dataframe tbody tr th:only-of-type {\n",
       "        vertical-align: middle;\n",
       "    }\n",
       "\n",
       "    .dataframe tbody tr th {\n",
       "        vertical-align: top;\n",
       "    }\n",
       "\n",
       "    .dataframe thead th {\n",
       "        text-align: right;\n",
       "    }\n",
       "</style>\n",
       "<table border=\"1\" class=\"dataframe\">\n",
       "  <thead>\n",
       "    <tr style=\"text-align: right;\">\n",
       "      <th></th>\n",
       "      <th>Bookmark_ID</th>\n",
       "      <th>Tag_ID</th>\n",
       "    </tr>\n",
       "  </thead>\n",
       "  <tbody>\n",
       "    <tr>\n",
       "      <th>0</th>\n",
       "      <td>1</td>\n",
       "      <td>0</td>\n",
       "    </tr>\n",
       "    <tr>\n",
       "      <th>1</th>\n",
       "      <td>2</td>\n",
       "      <td>0</td>\n",
       "    </tr>\n",
       "    <tr>\n",
       "      <th>2</th>\n",
       "      <td>3</td>\n",
       "      <td>0</td>\n",
       "    </tr>\n",
       "    <tr>\n",
       "      <th>3</th>\n",
       "      <td>4</td>\n",
       "      <td>0</td>\n",
       "    </tr>\n",
       "    <tr>\n",
       "      <th>4</th>\n",
       "      <td>5</td>\n",
       "      <td>0</td>\n",
       "    </tr>\n",
       "  </tbody>\n",
       "</table>\n",
       "</div>"
      ],
      "text/plain": [
       "   Bookmark_ID  Tag_ID\n",
       "0            1       0\n",
       "1            2       0\n",
       "2            3       0\n",
       "3            4       0\n",
       "4            5       0"
      ]
     },
     "execution_count": 139,
     "metadata": {},
     "output_type": "execute_result"
    }
   ],
   "source": [
    "bookmark_tags_df.head()"
   ]
  },
  {
   "cell_type": "code",
   "execution_count": 140,
   "metadata": {},
   "outputs": [
    {
     "data": {
      "text/plain": [
       "LoadJob<project=bookmarks-414106, location=europe-west2, id=bfd91183-b7dd-418b-b653-ad4bce101f27>"
      ]
     },
     "execution_count": 140,
     "metadata": {},
     "output_type": "execute_result"
    }
   ],
   "source": [
    "# Npw send to BQ\n",
    "table_name = \"bookmarktags\"\n",
    "\n",
    "table_id = f\"{project_id}.{dataset_id}.{table_name}\"\n",
    "client.load_table_from_dataframe(bookmark_tags_df, table_id)"
   ]
  },
  {
   "cell_type": "code",
   "execution_count": null,
   "metadata": {},
   "outputs": [],
   "source": []
  }
 ],
 "metadata": {
  "kernelspec": {
   "display_name": "bookmarks",
   "language": "python",
   "name": "python3"
  },
  "language_info": {
   "codemirror_mode": {
    "name": "ipython",
    "version": 3
   },
   "file_extension": ".py",
   "mimetype": "text/x-python",
   "name": "python",
   "nbconvert_exporter": "python",
   "pygments_lexer": "ipython3",
   "version": "3.10.6"
  }
 },
 "nbformat": 4,
 "nbformat_minor": 2
}
